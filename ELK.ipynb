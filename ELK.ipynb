{
 "cells": [
  {
   "cell_type": "code",
   "execution_count": 1,
   "id": "korean-classroom",
   "metadata": {},
   "outputs": [
    {
     "name": "stdout",
     "output_type": "stream",
     "text": [
      "Requirement already satisfied: elasticsearch in c:\\python39\\lib\\site-packages (7.12.0)\n",
      "Requirement already satisfied: certifi in c:\\python39\\lib\\site-packages (from elasticsearch) (2020.6.20)\n",
      "Requirement already satisfied: urllib3<2,>=1.21.1 in c:\\python39\\lib\\site-packages (from elasticsearch) (1.25.9)\n",
      "Note: you may need to restart the kernel to use updated packages.\n"
     ]
    }
   ],
   "source": [
    "pip install elasticsearch"
   ]
  },
  {
   "cell_type": "code",
   "execution_count": 2,
   "id": "corresponding-audit",
   "metadata": {},
   "outputs": [
    {
     "name": "stdout",
     "output_type": "stream",
     "text": [
      "All Modules Loaded!\n"
     ]
    }
   ],
   "source": [
    "try:\n",
    "    import elasticsearch\n",
    "    from elasticsearch import Elasticsearch\n",
    "    \n",
    "    import os\n",
    "    import sys\n",
    "    \n",
    "    import pandas as pd\n",
    "    \n",
    "    print(\"All Modules Loaded!\")\n",
    "\n",
    "except exception as e:\n",
    "    print(\"some modules are missing{}\".format(e))"
   ]
  },
  {
   "cell_type": "markdown",
   "id": "combined-testament",
   "metadata": {},
   "source": [
    "ABOUT IMPORT OS\n",
    "\n",
    "#It means your importing OS module in Python which provides a way of using operating system dependent functionality. \n",
    "#Functions that the OS module provides allows you to interface with the\n",
    "#underlying operating system that Python is running on (Windows,Linux,Mac)."
   ]
  },
  {
   "cell_type": "raw",
   "id": "extreme-patch",
   "metadata": {},
   "source": [
    "# ABOUT IMPORT SYS\n",
    "\n",
    "# The sys module is a set of functions which provide crucial information about how your\n",
    "#Python script is interacting with the host system.\n",
    "\n",
    "#The sys modules has information about :\n",
    "\n",
    "# What version of Python is running\n",
    "# The path to the Python executable that is executing your script\n",
    "# The command line options used to execute your script\n",
    "# ex:\n",
    "\n",
    "# sys.argv : A list of strings which is the command line used to execute the script separated by spaces.\n",
    "# sys.exit() : Exit Python cleanly\n",
    "# sys.version : The Python version string"
   ]
  },
  {
   "cell_type": "code",
   "execution_count": 3,
   "id": "instructional-institute",
   "metadata": {},
   "outputs": [],
   "source": [
    "#CREATING AN INSTANCE OF ELASTICSEARCH CLASS\n",
    "\n",
    "es = Elasticsearch([{\"host\":\"localhost\",\"port\":9200}])"
   ]
  },
  {
   "cell_type": "code",
   "execution_count": 4,
   "id": "spiritual-humanitarian",
   "metadata": {},
   "outputs": [
    {
     "data": {
      "text/plain": [
       "True"
      ]
     },
     "execution_count": 4,
     "metadata": {},
     "output_type": "execute_result"
    }
   ],
   "source": [
    "#using ping to check whether we are connected to elasticsearch using python\n",
    "es.ping()"
   ]
  },
  {
   "cell_type": "markdown",
   "id": "completed-intention",
   "metadata": {},
   "source": [
    "# Create Index"
   ]
  },
  {
   "cell_type": "code",
   "execution_count": 5,
   "id": "professional-auditor",
   "metadata": {},
   "outputs": [
    {
     "data": {
      "text/plain": [
       "{'acknowledged': True, 'shards_acknowledged': True, 'index': 'test-index'}"
      ]
     },
     "execution_count": 5,
     "metadata": {},
     "output_type": "execute_result"
    }
   ],
   "source": [
    "es.indices.create(index=\"test-index\",ignore=400)"
   ]
  },
  {
   "cell_type": "code",
   "execution_count": 6,
   "id": "possible-customs",
   "metadata": {},
   "outputs": [
    {
     "name": "stdout",
     "output_type": "stream",
     "text": [
      ".apm-agent-configuration\n",
      ".ds-ilm-history-5-2021.04.23-000001\n",
      ".apm-custom-link\n",
      "test-index\n",
      ".kibana-event-log-7.12.0-000001\n",
      ".kibana_task_manager_7.12.0_001\n",
      "testperson\n",
      ".tasks\n",
      ".kibana_7.12.0_001\n"
     ]
    },
    {
     "name": "stderr",
     "output_type": "stream",
     "text": [
      "c:\\python39\\lib\\site-packages\\elasticsearch\\connection\\base.py:200: ElasticsearchWarning: this request accesses system indices: [.apm-agent-configuration, .apm-custom-link, .kibana_task_manager_7.12.0_001, .tasks, .kibana_7.12.0_001], but in a future major version, direct access to system indices will be prevented by default\n",
      "  warnings.warn(message, category=ElasticsearchWarning)\n"
     ]
    }
   ],
   "source": [
    "#Printing all indices we got in es\n",
    "res= es.indices.get_alias(\"*\")\n",
    "\n",
    "for Name in res:\n",
    "    print(Name)\n",
    "\n",
    "#Index Aliasesedit. APIs in Elasticsearch accept an index name when working against a specific index, and several indices when applicable. ...\n",
    "#An alias can also be associated with a filter that will automatically be applied when searching, and routing values. An alias cannot have the same name as an index."
   ]
  },
  {
   "cell_type": "code",
   "execution_count": 7,
   "id": "sapphire-oriental",
   "metadata": {},
   "outputs": [
    {
     "data": {
      "text/plain": [
       "{'acknowledged': True}"
      ]
     },
     "execution_count": 7,
     "metadata": {},
     "output_type": "execute_result"
    }
   ],
   "source": [
    "#Deleting an index\n",
    "es.indices.delete(index=\"test-index\",ignore=[400,404])"
   ]
  },
  {
   "cell_type": "code",
   "execution_count": 19,
   "id": "operating-rally",
   "metadata": {},
   "outputs": [
    {
     "name": "stdout",
     "output_type": "stream",
     "text": [
      ".kibana_7.12.0_001\n",
      ".apm-agent-configuration\n",
      ".apm-custom-link\n",
      ".kibana-event-log-7.12.0-000001\n",
      ".tasks\n",
      "test-person\n",
      ".ds-ilm-history-5-2021.04.23-000001\n",
      ".kibana_task_manager_7.12.0_001\n"
     ]
    },
    {
     "name": "stderr",
     "output_type": "stream",
     "text": [
      "c:\\python39\\lib\\site-packages\\elasticsearch\\connection\\base.py:200: ElasticsearchWarning: this request accesses system indices: [.kibana_7.12.0_001, .apm-agent-configuration, .apm-custom-link, .tasks, .kibana_task_manager_7.12.0_001], but in a future major version, direct access to system indices will be prevented by default\n",
      "  warnings.warn(message, category=ElasticsearchWarning)\n"
     ]
    }
   ],
   "source": [
    "res= es.indices.get_alias(\"*\");\n",
    "\n",
    "for Name in res:\n",
    "    print(Name);"
   ]
  },
  {
   "cell_type": "markdown",
   "id": "false-arnold",
   "metadata": {},
   "source": [
    "# Upload 2 sample Json Doc in Elasticsearch"
   ]
  },
  {
   "cell_type": "code",
   "execution_count": 14,
   "id": "eight-speed",
   "metadata": {},
   "outputs": [],
   "source": [
    "e1= {\n",
    "    \"first_name\":\"shelvi\",\n",
    "    \"last_name\":\"garg\",\n",
    "    \"age\":25,\n",
    "    \"about\":\"data-scientist\"\n",
    "}\n",
    "\n",
    "e2= {\n",
    "    \"first_name\":\"sakshi\",\n",
    "    \"last_name\":\"jais\",\n",
    "    \"age\":25,\n",
    "    \"about\":\"ios dev\"\n",
    "}\n"
   ]
  },
  {
   "cell_type": "code",
   "execution_count": 15,
   "id": "alone-turtle",
   "metadata": {},
   "outputs": [
    {
     "data": {
      "text/plain": [
       "{'acknowledged': True, 'shards_acknowledged': True, 'index': 'test-person'}"
      ]
     },
     "execution_count": 15,
     "metadata": {},
     "output_type": "execute_result"
    }
   ],
   "source": [
    "es.indices.create(index=\"test-person\",ignore=400)"
   ]
  },
  {
   "cell_type": "code",
   "execution_count": 20,
   "id": "eight-glory",
   "metadata": {},
   "outputs": [],
   "source": [
    "#send document to elasticsearch\n",
    "\n",
    "res1 = es.index(index=\"test-person\",doc_type=\"test-people\",body=e1,id=1);"
   ]
  },
  {
   "cell_type": "code",
   "execution_count": 17,
   "id": "executive-passport",
   "metadata": {},
   "outputs": [
    {
     "data": {
      "text/plain": [
       "{'.kibana-event-log-7.12.0-000001': {'aliases': {'.kibana-event-log-7.12.0': {'is_write_index': True}}},\n",
       " 'testperson': {'aliases': {}},\n",
       " '.apm-agent-configuration': {'aliases': {}},\n",
       " '.ds-ilm-history-5-2021.04.23-000001': {'aliases': {}},\n",
       " '.kibana_7.12.0_001': {'aliases': {'.kibana': {}, '.kibana_7.12.0': {}}},\n",
       " '.apm-custom-link': {'aliases': {}},\n",
       " '.tasks': {'aliases': {}},\n",
       " '.kibana_task_manager_7.12.0_001': {'aliases': {'.kibana_task_manager': {},\n",
       "   '.kibana_task_manager_7.12.0': {}}}}"
      ]
     },
     "execution_count": 17,
     "metadata": {},
     "output_type": "execute_result"
    }
   ],
   "source": [
    "res"
   ]
  },
  {
   "cell_type": "code",
   "execution_count": 18,
   "id": "historic-rubber",
   "metadata": {},
   "outputs": [
    {
     "data": {
      "text/plain": [
       "{'_index': 'test-person',\n",
       " '_type': 'test-people',\n",
       " '_id': '1',\n",
       " '_version': 1,\n",
       " 'result': 'created',\n",
       " '_shards': {'total': 2, 'successful': 1, 'failed': 0},\n",
       " '_seq_no': 0,\n",
       " '_primary_term': 1}"
      ]
     },
     "execution_count": 18,
     "metadata": {},
     "output_type": "execute_result"
    }
   ],
   "source": [
    "res1"
   ]
  },
  {
   "cell_type": "code",
   "execution_count": 22,
   "id": "temporal-peoples",
   "metadata": {},
   "outputs": [],
   "source": [
    "#upload 2nd doc\n",
    "\n",
    "\n",
    "res2 = es.index(index=\"test-person\",doc_type=\"test-people\",body=e2,id=2);"
   ]
  },
  {
   "cell_type": "code",
   "execution_count": 23,
   "id": "knowing-greece",
   "metadata": {},
   "outputs": [
    {
     "data": {
      "text/plain": [
       "{'.kibana_7.12.0_001': {'aliases': {'.kibana': {}, '.kibana_7.12.0': {}}},\n",
       " '.apm-agent-configuration': {'aliases': {}},\n",
       " '.apm-custom-link': {'aliases': {}},\n",
       " '.kibana-event-log-7.12.0-000001': {'aliases': {'.kibana-event-log-7.12.0': {'is_write_index': True}}},\n",
       " '.tasks': {'aliases': {}},\n",
       " 'test-person': {'aliases': {}},\n",
       " '.ds-ilm-history-5-2021.04.23-000001': {'aliases': {}},\n",
       " '.kibana_task_manager_7.12.0_001': {'aliases': {'.kibana_task_manager': {},\n",
       "   '.kibana_task_manager_7.12.0': {}}}}"
      ]
     },
     "execution_count": 23,
     "metadata": {},
     "output_type": "execute_result"
    }
   ],
   "source": [
    "res"
   ]
  },
  {
   "cell_type": "code",
   "execution_count": null,
   "id": "declared-punch",
   "metadata": {},
   "outputs": [],
   "source": []
  }
 ],
 "metadata": {
  "kernelspec": {
   "display_name": "Python 3",
   "language": "python",
   "name": "python3"
  },
  "language_info": {
   "codemirror_mode": {
    "name": "ipython",
    "version": 3
   },
   "file_extension": ".py",
   "mimetype": "text/x-python",
   "name": "python",
   "nbconvert_exporter": "python",
   "pygments_lexer": "ipython3",
   "version": "3.9.1"
  }
 },
 "nbformat": 4,
 "nbformat_minor": 5
}
