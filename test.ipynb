{
 "cells": [
  {
   "cell_type": "code",
   "execution_count": 1,
   "id": "daily-grade",
   "metadata": {},
   "outputs": [
    {
     "name": "stdout",
     "output_type": "stream",
     "text": [
      "All Modules Loaded!\n"
     ]
    }
   ],
   "source": [
    "try:\n",
    "    import elasticsearch\n",
    "    from elasticsearch import Elasticsearch\n",
    "    \n",
    "    import os\n",
    "    import sys\n",
    "    \n",
    "    import pandas as pd\n",
    "    import json\n",
    "    from ast import literal_eval\n",
    "    from tqdm import tqdm\n",
    "    import datetime\n",
    "    \n",
    "    import numpy as np\n",
    "    from elasticsearch import helpers\n",
    "    \n",
    "    print(\"All Modules Loaded!\")\n",
    "\n",
    "except exception as e:\n",
    "    print(\"some modules are missing{}\".format(e))"
   ]
  },
  {
   "cell_type": "raw",
   "id": "valued-psychiatry",
   "metadata": {},
   "source": [
    "#ABOUT AST \n",
    "\n",
    "The ast module helps Python applications to process trees of the Python abstract syntax grammar. \n",
    "The abstract syntax itself might change with each Python release;\n",
    "This module helps to find out programmatically what the current grammar looks like"
   ]
  },
  {
   "cell_type": "raw",
   "id": "fossil-creek",
   "metadata": {},
   "source": [
    "#ABOUT TQDM \n",
    "\n",
    "TQDM is a progress bar library with good support for nested loops and Jupyter/IPython notebooks."
   ]
  },
  {
   "cell_type": "code",
   "execution_count": 2,
   "id": "contained-trademark",
   "metadata": {},
   "outputs": [
    {
     "name": "stdout",
     "output_type": "stream",
     "text": [
      ".ipynb_checkpoints\n",
      "ELK.ipynb\n",
      "netflix_titles.csv\n",
      "test.ipynb\n"
     ]
    }
   ],
   "source": [
    "for x in os.listdir():\n",
    "    print(x)"
   ]
  },
  {
   "cell_type": "code",
   "execution_count": 3,
   "id": "electoral-proposal",
   "metadata": {},
   "outputs": [],
   "source": [
    "df = pd.read_csv(\"netflix_titles.csv\")"
   ]
  },
  {
   "cell_type": "code",
   "execution_count": 4,
   "id": "similar-valuable",
   "metadata": {},
   "outputs": [
    {
     "data": {
      "text/html": [
       "<div>\n",
       "<style scoped>\n",
       "    .dataframe tbody tr th:only-of-type {\n",
       "        vertical-align: middle;\n",
       "    }\n",
       "\n",
       "    .dataframe tbody tr th {\n",
       "        vertical-align: top;\n",
       "    }\n",
       "\n",
       "    .dataframe thead th {\n",
       "        text-align: right;\n",
       "    }\n",
       "</style>\n",
       "<table border=\"1\" class=\"dataframe\">\n",
       "  <thead>\n",
       "    <tr style=\"text-align: right;\">\n",
       "      <th></th>\n",
       "      <th>show_id</th>\n",
       "      <th>type</th>\n",
       "      <th>title</th>\n",
       "      <th>director</th>\n",
       "      <th>cast</th>\n",
       "      <th>country</th>\n",
       "      <th>date_added</th>\n",
       "      <th>release_year</th>\n",
       "      <th>rating</th>\n",
       "      <th>duration</th>\n",
       "      <th>listed_in</th>\n",
       "      <th>description</th>\n",
       "    </tr>\n",
       "  </thead>\n",
       "  <tbody>\n",
       "    <tr>\n",
       "      <th>0</th>\n",
       "      <td>s1</td>\n",
       "      <td>TV Show</td>\n",
       "      <td>3%</td>\n",
       "      <td>NaN</td>\n",
       "      <td>João Miguel, Bianca Comparato, Michel Gomes, R...</td>\n",
       "      <td>Brazil</td>\n",
       "      <td>August 14, 2020</td>\n",
       "      <td>2020</td>\n",
       "      <td>TV-MA</td>\n",
       "      <td>4 Seasons</td>\n",
       "      <td>International TV Shows, TV Dramas, TV Sci-Fi &amp;...</td>\n",
       "      <td>In a future where the elite inhabit an island ...</td>\n",
       "    </tr>\n",
       "    <tr>\n",
       "      <th>1</th>\n",
       "      <td>s2</td>\n",
       "      <td>Movie</td>\n",
       "      <td>7:19</td>\n",
       "      <td>Jorge Michel Grau</td>\n",
       "      <td>Demián Bichir, Héctor Bonilla, Oscar Serrano, ...</td>\n",
       "      <td>Mexico</td>\n",
       "      <td>December 23, 2016</td>\n",
       "      <td>2016</td>\n",
       "      <td>TV-MA</td>\n",
       "      <td>93 min</td>\n",
       "      <td>Dramas, International Movies</td>\n",
       "      <td>After a devastating earthquake hits Mexico Cit...</td>\n",
       "    </tr>\n",
       "    <tr>\n",
       "      <th>2</th>\n",
       "      <td>s3</td>\n",
       "      <td>Movie</td>\n",
       "      <td>23:59</td>\n",
       "      <td>Gilbert Chan</td>\n",
       "      <td>Tedd Chan, Stella Chung, Henley Hii, Lawrence ...</td>\n",
       "      <td>Singapore</td>\n",
       "      <td>December 20, 2018</td>\n",
       "      <td>2011</td>\n",
       "      <td>R</td>\n",
       "      <td>78 min</td>\n",
       "      <td>Horror Movies, International Movies</td>\n",
       "      <td>When an army recruit is found dead, his fellow...</td>\n",
       "    </tr>\n",
       "    <tr>\n",
       "      <th>3</th>\n",
       "      <td>s4</td>\n",
       "      <td>Movie</td>\n",
       "      <td>9</td>\n",
       "      <td>Shane Acker</td>\n",
       "      <td>Elijah Wood, John C. Reilly, Jennifer Connelly...</td>\n",
       "      <td>United States</td>\n",
       "      <td>November 16, 2017</td>\n",
       "      <td>2009</td>\n",
       "      <td>PG-13</td>\n",
       "      <td>80 min</td>\n",
       "      <td>Action &amp; Adventure, Independent Movies, Sci-Fi...</td>\n",
       "      <td>In a postapocalyptic world, rag-doll robots hi...</td>\n",
       "    </tr>\n",
       "    <tr>\n",
       "      <th>4</th>\n",
       "      <td>s5</td>\n",
       "      <td>Movie</td>\n",
       "      <td>21</td>\n",
       "      <td>Robert Luketic</td>\n",
       "      <td>Jim Sturgess, Kevin Spacey, Kate Bosworth, Aar...</td>\n",
       "      <td>United States</td>\n",
       "      <td>January 1, 2020</td>\n",
       "      <td>2008</td>\n",
       "      <td>PG-13</td>\n",
       "      <td>123 min</td>\n",
       "      <td>Dramas</td>\n",
       "      <td>A brilliant group of students become card-coun...</td>\n",
       "    </tr>\n",
       "  </tbody>\n",
       "</table>\n",
       "</div>"
      ],
      "text/plain": [
       "  show_id     type  title           director  \\\n",
       "0      s1  TV Show     3%                NaN   \n",
       "1      s2    Movie   7:19  Jorge Michel Grau   \n",
       "2      s3    Movie  23:59       Gilbert Chan   \n",
       "3      s4    Movie      9        Shane Acker   \n",
       "4      s5    Movie     21     Robert Luketic   \n",
       "\n",
       "                                                cast        country  \\\n",
       "0  João Miguel, Bianca Comparato, Michel Gomes, R...         Brazil   \n",
       "1  Demián Bichir, Héctor Bonilla, Oscar Serrano, ...         Mexico   \n",
       "2  Tedd Chan, Stella Chung, Henley Hii, Lawrence ...      Singapore   \n",
       "3  Elijah Wood, John C. Reilly, Jennifer Connelly...  United States   \n",
       "4  Jim Sturgess, Kevin Spacey, Kate Bosworth, Aar...  United States   \n",
       "\n",
       "          date_added  release_year rating   duration  \\\n",
       "0    August 14, 2020          2020  TV-MA  4 Seasons   \n",
       "1  December 23, 2016          2016  TV-MA     93 min   \n",
       "2  December 20, 2018          2011      R     78 min   \n",
       "3  November 16, 2017          2009  PG-13     80 min   \n",
       "4    January 1, 2020          2008  PG-13    123 min   \n",
       "\n",
       "                                           listed_in  \\\n",
       "0  International TV Shows, TV Dramas, TV Sci-Fi &...   \n",
       "1                       Dramas, International Movies   \n",
       "2                Horror Movies, International Movies   \n",
       "3  Action & Adventure, Independent Movies, Sci-Fi...   \n",
       "4                                             Dramas   \n",
       "\n",
       "                                         description  \n",
       "0  In a future where the elite inhabit an island ...  \n",
       "1  After a devastating earthquake hits Mexico Cit...  \n",
       "2  When an army recruit is found dead, his fellow...  \n",
       "3  In a postapocalyptic world, rag-doll robots hi...  \n",
       "4  A brilliant group of students become card-coun...  "
      ]
     },
     "execution_count": 4,
     "metadata": {},
     "output_type": "execute_result"
    }
   ],
   "source": [
    "df.head()"
   ]
  },
  {
   "cell_type": "code",
   "execution_count": 5,
   "id": "awful-ontario",
   "metadata": {},
   "outputs": [
    {
     "data": {
      "text/plain": [
       "Index(['show_id', 'type', 'title', 'director', 'cast', 'country', 'date_added',\n",
       "       'release_year', 'rating', 'duration', 'listed_in', 'description'],\n",
       "      dtype='object')"
      ]
     },
     "execution_count": 5,
     "metadata": {},
     "output_type": "execute_result"
    }
   ],
   "source": [
    "df.columns"
   ]
  },
  {
   "cell_type": "code",
   "execution_count": 6,
   "id": "silver-wallace",
   "metadata": {},
   "outputs": [
    {
     "data": {
      "text/plain": [
       "(7787, 12)"
      ]
     },
     "execution_count": 6,
     "metadata": {},
     "output_type": "execute_result"
    }
   ],
   "source": [
    "df.shape"
   ]
  },
  {
   "cell_type": "code",
   "execution_count": 7,
   "id": "desperate-wilderness",
   "metadata": {},
   "outputs": [
    {
     "data": {
      "text/plain": [
       "(7787,)"
      ]
     },
     "execution_count": 7,
     "metadata": {},
     "output_type": "execute_result"
    }
   ],
   "source": [
    "df[\"show_id\"].unique().shape"
   ]
  },
  {
   "cell_type": "code",
   "execution_count": 8,
   "id": "sexual-mapping",
   "metadata": {},
   "outputs": [],
   "source": [
    "#connect with elasticsearch : creating es instance\n",
    "\n",
    "endpoint = \"http://localhost:9200/\"\n",
    "es = Elasticsearch(timeout= 600,hosts = endpoint)"
   ]
  },
  {
   "cell_type": "code",
   "execution_count": 9,
   "id": "harmful-warehouse",
   "metadata": {},
   "outputs": [
    {
     "data": {
      "text/plain": [
       "True"
      ]
     },
     "execution_count": 9,
     "metadata": {},
     "output_type": "execute_result"
    }
   ],
   "source": [
    "#Checking connection\n",
    "\n",
    "es.ping()"
   ]
  },
  {
   "cell_type": "code",
   "execution_count": 10,
   "id": "patent-influence",
   "metadata": {},
   "outputs": [
    {
     "data": {
      "text/plain": [
       "show_id            0\n",
       "type               0\n",
       "title              0\n",
       "director        2389\n",
       "cast             718\n",
       "country          507\n",
       "date_added        10\n",
       "release_year       0\n",
       "rating             7\n",
       "duration           0\n",
       "listed_in          0\n",
       "description        0\n",
       "dtype: int64"
      ]
     },
     "execution_count": 10,
     "metadata": {},
     "output_type": "execute_result"
    }
   ],
   "source": [
    "df.isna().sum()"
   ]
  },
  {
   "cell_type": "code",
   "execution_count": 11,
   "id": "surprising-interval",
   "metadata": {},
   "outputs": [],
   "source": [
    "df= df.dropna()"
   ]
  },
  {
   "cell_type": "code",
   "execution_count": 12,
   "id": "emerging-slide",
   "metadata": {},
   "outputs": [
    {
     "data": {
      "text/plain": [
       "(4808, 12)"
      ]
     },
     "execution_count": 12,
     "metadata": {},
     "output_type": "execute_result"
    }
   ],
   "source": [
    "df.shape"
   ]
  },
  {
   "cell_type": "code",
   "execution_count": 24,
   "id": "authorized-chassis",
   "metadata": {},
   "outputs": [
    {
     "data": {
      "text/plain": [
       "0"
      ]
     },
     "execution_count": 24,
     "metadata": {},
     "output_type": "execute_result"
    }
   ],
   "source": [
    "df[\"duration\"].isnull().sum()"
   ]
  },
  {
   "cell_type": "markdown",
   "id": "satisfactory-printing",
   "metadata": {},
   "source": [
    "# We need to convert the data into APP format that elasticsearch can read"
   ]
  },
  {
   "cell_type": "code",
   "execution_count": 13,
   "id": "strategic-field",
   "metadata": {},
   "outputs": [],
   "source": [
    "#converting to json \n",
    "\n",
    "#records - each row becomes a dictionary where key is column name and value is the data in the cell\n",
    "\n",
    "df2 = df.to_dict(\"records\")"
   ]
  },
  {
   "cell_type": "code",
   "execution_count": 14,
   "id": "other-laptop",
   "metadata": {},
   "outputs": [
    {
     "data": {
      "text/plain": [
       "{'show_id': 's2',\n",
       " 'type': 'Movie',\n",
       " 'title': '7:19',\n",
       " 'director': 'Jorge Michel Grau',\n",
       " 'cast': 'Demián Bichir, Héctor Bonilla, Oscar Serrano, Azalia Ortiz, Octavio Michel, Carmen Beato',\n",
       " 'country': 'Mexico',\n",
       " 'date_added': 'December 23, 2016',\n",
       " 'release_year': 2016,\n",
       " 'rating': 'TV-MA',\n",
       " 'duration': '93 min',\n",
       " 'listed_in': 'Dramas, International Movies',\n",
       " 'description': 'After a devastating earthquake hits Mexico City, trapped survivors from all walks of life wait to be rescued while trying desperately to stay alive.'}"
      ]
     },
     "execution_count": 14,
     "metadata": {},
     "output_type": "execute_result"
    }
   ],
   "source": [
    "df2[0]"
   ]
  },
  {
   "cell_type": "code",
   "execution_count": 15,
   "id": "dirty-lafayette",
   "metadata": {},
   "outputs": [
    {
     "data": {
      "text/plain": [
       "4808"
      ]
     },
     "execution_count": 15,
     "metadata": {},
     "output_type": "execute_result"
    }
   ],
   "source": [
    "len(df2)"
   ]
  },
  {
   "cell_type": "markdown",
   "id": "marine-madness",
   "metadata": {},
   "source": [
    "# We need to convert data into ELK Format"
   ]
  },
  {
   "cell_type": "code",
   "execution_count": 16,
   "id": "ethical-flesh",
   "metadata": {},
   "outputs": [],
   "source": [
    "def generator(df2):                              #generator : like a normal function\n",
    "    for c, line in enumerate(df2):\n",
    "        yield {                                   #yield used instead of return    \n",
    "        \"_index\" : \"netflix_shows\",                  #gving index name for elk\n",
    "        \"_type\" : \"_doc\",\n",
    "        \"_id\" : line.get(\"show_id\",None),              #giving id by show_id column of db\n",
    "        \"_source\":{                                    #difining json data of our db\n",
    "            \"title\":line.get(\"title\",\"\"),\n",
    "            \"description\" : line.get(\"description\",\"\"),\n",
    "            \"duration\" : line.get(\"duration\",None),\n",
    "            \"director\" : line.get(\"director\",None),\n",
    "            \"rating\" : line.get(\"rating\",None),\n",
    "            \"country\" : line.get(\"country\",None)\n",
    "            }}\n",
    "    raise StopIteration \n",
    "    \n",
    "    \n"
   ]
  },
  {
   "cell_type": "raw",
   "id": "elder-prototype",
   "metadata": {},
   "source": [
    "A generator-function is defined like a normal function, but whenever it needs to generate a value, it does so with the yield keyword rather than return. \n",
    "If the body of a def contains yield, the function automatically becomes a generator function."
   ]
  },
  {
   "cell_type": "code",
   "execution_count": 17,
   "id": "round-commander",
   "metadata": {},
   "outputs": [],
   "source": [
    "mycustom = generator(df2)"
   ]
  },
  {
   "cell_type": "code",
   "execution_count": 18,
   "id": "statistical-paste",
   "metadata": {},
   "outputs": [
    {
     "data": {
      "text/plain": [
       "<generator object generator at 0x0000027A7C33AD60>"
      ]
     },
     "execution_count": 18,
     "metadata": {},
     "output_type": "execute_result"
    }
   ],
   "source": [
    "mycustom"
   ]
  },
  {
   "cell_type": "code",
   "execution_count": 19,
   "id": "sought-appeal",
   "metadata": {},
   "outputs": [
    {
     "data": {
      "text/plain": [
       "{'_index': 'netflix_shows',\n",
       " '_type': '_doc',\n",
       " '_id': 's2',\n",
       " '_source': {'title': '7:19',\n",
       "  'description': 'After a devastating earthquake hits Mexico City, trapped survivors from all walks of life wait to be rescued while trying desperately to stay alive.',\n",
       "  'duration': '93 min',\n",
       "  'director': 'Jorge Michel Grau',\n",
       "  'rating': 'TV-MA',\n",
       "  'country': 'Mexico'}}"
      ]
     },
     "execution_count": 19,
     "metadata": {},
     "output_type": "execute_result"
    }
   ],
   "source": [
    "next(mycustom)    #The next() function returns the next item in an iterator."
   ]
  },
  {
   "cell_type": "markdown",
   "id": "distinct-nebraska",
   "metadata": {},
   "source": [
    "# Upload data into Elastic Search"
   ]
  },
  {
   "cell_type": "raw",
   "id": "wooden-director",
   "metadata": {},
   "source": [
    " helpers.bulk method : \n",
    "    It is an excellent way to index large datasets without putting them into memory.\n",
    "    This speeds up the indexing when you need to bulk import Elasticsearch data in Python. \n",
    "    You save time by sreamlining processes to complete coding done faster with Python helpers bulk load Elasticsearch."
   ]
  },
  {
   "cell_type": "code",
   "execution_count": 20,
   "id": "higher-cookie",
   "metadata": {},
   "outputs": [
    {
     "name": "stderr",
     "output_type": "stream",
     "text": [
      "c:\\python39\\lib\\site-packages\\elasticsearch\\connection\\base.py:200: ElasticsearchWarning: [types removal] Specifying types in bulk requests is deprecated.\n",
      "  warnings.warn(message, category=ElasticsearchWarning)\n"
     ]
    }
   ],
   "source": [
    "try:\n",
    "    res = helpers.bulk (es,generator(df2))\n",
    "    print(\"Working\");\n",
    "except Exception as e:\n",
    "    pass"
   ]
  },
  {
   "cell_type": "code",
   "execution_count": 21,
   "id": "virgin-airline",
   "metadata": {},
   "outputs": [
    {
     "ename": "NameError",
     "evalue": "name 'netflix_shows' is not defined",
     "output_type": "error",
     "traceback": [
      "\u001b[1;31m---------------------------------------------------------------------------\u001b[0m",
      "\u001b[1;31mNameError\u001b[0m                                 Traceback (most recent call last)",
      "\u001b[1;32m<ipython-input-21-23e86283a47e>\u001b[0m in \u001b[0;36m<module>\u001b[1;34m\u001b[0m\n\u001b[1;32m----> 1\u001b[1;33m \u001b[0mnetflix_shows\u001b[0m\u001b[1;33m\u001b[0m\u001b[1;33m\u001b[0m\u001b[0m\n\u001b[0m",
      "\u001b[1;31mNameError\u001b[0m: name 'netflix_shows' is not defined"
     ]
    }
   ],
   "source": [
    "netflix_shows"
   ]
  },
  {
   "cell_type": "code",
   "execution_count": null,
   "id": "compressed-tractor",
   "metadata": {},
   "outputs": [],
   "source": []
  }
 ],
 "metadata": {
  "kernelspec": {
   "display_name": "Python 3",
   "language": "python",
   "name": "python3"
  },
  "language_info": {
   "codemirror_mode": {
    "name": "ipython",
    "version": 3
   },
   "file_extension": ".py",
   "mimetype": "text/x-python",
   "name": "python",
   "nbconvert_exporter": "python",
   "pygments_lexer": "ipython3",
   "version": "3.9.1"
  }
 },
 "nbformat": 4,
 "nbformat_minor": 5
}
