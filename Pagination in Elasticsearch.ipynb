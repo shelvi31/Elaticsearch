{
 "cells": [
  {
   "cell_type": "markdown",
   "id": "surface-heaven",
   "metadata": {},
   "source": [
    "# Import Modules"
   ]
  },
  {
   "cell_type": "code",
   "execution_count": 1,
   "id": "similar-shannon",
   "metadata": {},
   "outputs": [
    {
     "name": "stdout",
     "output_type": "stream",
     "text": [
      "All modules loaded!\n"
     ]
    }
   ],
   "source": [
    "try:\n",
    "    import os\n",
    "    import sys\n",
    "    \n",
    "    import elasticsearch\n",
    "    from elasticsearch import Elasticsearch\n",
    "    \n",
    "    print(\"All modules loaded!\")\n",
    "    \n",
    "except Exception as e:\n",
    "    print(\"Some modules cant be loaded\")"
   ]
  },
  {
   "cell_type": "markdown",
   "id": "light-senate",
   "metadata": {},
   "source": [
    "# Connecting to Elasticsearch Database"
   ]
  },
  {
   "cell_type": "code",
   "execution_count": 2,
   "id": "treated-glenn",
   "metadata": {},
   "outputs": [
    {
     "name": "stdout",
     "output_type": "stream",
     "text": [
      "connected\n"
     ]
    }
   ],
   "source": [
    "def connect_elasticsearch():\n",
    "    es = None\n",
    "    es = Elasticsearch([{\"host\":\"localhost\",\"port\":9200}])\n",
    "    if es.ping():\n",
    "        print(\"connected\")\n",
    "    else:\n",
    "        print(\"could not connect\")\n",
    "    return es\n",
    "\n",
    "es = connect_elasticsearch()"
   ]
  },
  {
   "cell_type": "markdown",
   "id": "african-missouri",
   "metadata": {},
   "source": [
    "# Writing a query"
   ]
  },
  {
   "cell_type": "code",
   "execution_count": 3,
   "id": "answering-dubai",
   "metadata": {},
   "outputs": [],
   "source": [
    "myquery = {\n",
    "  \"_source\": [],\n",
    "  \"size\": 20,\n",
    "  \"query\": \n",
    "  {\n",
    "   \"bool\":\n",
    "   {\n",
    "     \"filter\": \n",
    "       {\n",
    "         \"exists\":\n",
    "         {\n",
    "           \"field\": \"director\",\n",
    "\n",
    "         }\n",
    "       },\n",
    "        \"should\": \n",
    "       {\n",
    "         \"match_phrase\":\n",
    "         {\n",
    "           \"director\": \"Richard\",\n",
    "\n",
    "         }\n",
    "       }\n",
    "   }\n",
    "  }\n",
    "}"
   ]
  },
  {
   "cell_type": "code",
   "execution_count": 4,
   "id": "adolescent-marathon",
   "metadata": {},
   "outputs": [],
   "source": [
    "res = es.search(\n",
    "    index = 'netflix_shows',\n",
    "    scroll = \"2m\",\n",
    "    size = 3,\n",
    "    body = myquery\n",
    ")"
   ]
  },
  {
   "cell_type": "code",
   "execution_count": 5,
   "id": "conscious-easter",
   "metadata": {},
   "outputs": [
    {
     "data": {
      "text/plain": [
       "{'_scroll_id': 'FGluY2x1ZGVfY29udGV4dF91dWlkDXF1ZXJ5QW5kRmV0Y2gBFkNMRUJ3ZjJPUkw2dXBZeDU1YW5ENkEAAAAAAAAIIBZ6b1pDOFFpNVIzMjZKZUx4dFJ2dVVB',\n",
       " 'took': 2,\n",
       " 'timed_out': False,\n",
       " '_shards': {'total': 1, 'successful': 1, 'skipped': 0, 'failed': 0},\n",
       " 'hits': {'total': {'value': 4500, 'relation': 'eq'},\n",
       "  'max_score': 5.3961115,\n",
       "  'hits': [{'_index': 'netflix_shows',\n",
       "    '_type': '_doc',\n",
       "    '_id': 's72',\n",
       "    '_score': 5.3961115,\n",
       "    '_source': {'title': '16 Blocks',\n",
       "     'description': \"Tasked with escorting a prosecution witness to court, an aging cop gears up for the 16-block trek – but they'll be lucky to make it there alive.\",\n",
       "     'duration': '102 min',\n",
       "     'director': 'Richard Donner',\n",
       "     'rating': 'PG-13',\n",
       "     'country': 'United States, Germany'}},\n",
       "   {'_index': 'netflix_shows',\n",
       "    '_type': '_doc',\n",
       "    '_id': 's119',\n",
       "    '_score': 5.3961115,\n",
       "    '_source': {'title': '5 Flights Up',\n",
       "     'description': 'A couple finds unexpected drama when, after 40 years of living in the same Brooklyn walk-up, they attempt to sell their apartment and buy a new one.',\n",
       "     'duration': '92 min',\n",
       "     'director': 'Richard Loncraine',\n",
       "     'rating': 'PG-13',\n",
       "     'country': 'United States'}},\n",
       "   {'_index': 'netflix_shows',\n",
       "    '_type': '_doc',\n",
       "    '_id': 's154',\n",
       "    '_score': 5.3961115,\n",
       "    '_source': {'title': 'A Bridge Too Far',\n",
       "     'description': 'This wartime drama details a pivotal day in 1944 when an Allied task force tried to win World War II by seizing control of key bridges in Holland.',\n",
       "     'duration': '176 min',\n",
       "     'director': 'Richard Attenborough',\n",
       "     'rating': 'PG',\n",
       "     'country': 'United States, United Kingdom'}}]}}"
      ]
     },
     "execution_count": 5,
     "metadata": {},
     "output_type": "execute_result"
    }
   ],
   "source": [
    "res"
   ]
  },
  {
   "cell_type": "code",
   "execution_count": 6,
   "id": "political-producer",
   "metadata": {},
   "outputs": [],
   "source": [
    "#IT GAVE US THE SCROLL ID  and 3 records"
   ]
  },
  {
   "cell_type": "code",
   "execution_count": 7,
   "id": "wrong-clear",
   "metadata": {},
   "outputs": [],
   "source": [
    "page = es.scroll(\n",
    "    scroll_id=\"FGluY2x1ZGVfY29udGV4dF91dWlkDXF1ZXJ5QW5kRmV0Y2gBFkNMRUJ3ZjJPUkw2dXBZeDU1YW5ENkEAAAAAAAADgBZ6b1pDOFFpNVIzMjZKZUx4dFJ2dVVB\",\n",
    "    scroll = \"10m\"\n",
    "                )"
   ]
  },
  {
   "cell_type": "code",
   "execution_count": 8,
   "id": "trying-positive",
   "metadata": {},
   "outputs": [
    {
     "data": {
      "text/plain": [
       "{'_scroll_id': 'FGluY2x1ZGVfY29udGV4dF91dWlkDXF1ZXJ5QW5kRmV0Y2gBFkNMRUJ3ZjJPUkw2dXBZeDU1YW5ENkEAAAAAAAADgBZ6b1pDOFFpNVIzMjZKZUx4dFJ2dVVB',\n",
       " 'took': 2,\n",
       " 'timed_out': False,\n",
       " '_shards': {'total': 1, 'successful': 1, 'skipped': 0, 'failed': 0},\n",
       " 'hits': {'total': {'value': 4500, 'relation': 'eq'},\n",
       "  'max_score': 5.3961115,\n",
       "  'hits': []}}"
      ]
     },
     "execution_count": 8,
     "metadata": {},
     "output_type": "execute_result"
    }
   ],
   "source": [
    "page     #will give us the next set of 3 records"
   ]
  },
  {
   "cell_type": "code",
   "execution_count": 9,
   "id": "moral-organizer",
   "metadata": {},
   "outputs": [
    {
     "name": "stdout",
     "output_type": "stream",
     "text": [
      "\n"
     ]
    }
   ],
   "source": [
    "sid = res[\"_scroll_id\"]\n",
    "scroll_size = res [\"hits\"][\"total\"]\n",
    "scroll_size = scroll_size[\"value\"]\n",
    "print()"
   ]
  },
  {
   "cell_type": "code",
   "execution_count": 10,
   "id": "exact-international",
   "metadata": {},
   "outputs": [
    {
     "data": {
      "text/plain": [
       "3"
      ]
     },
     "execution_count": 10,
     "metadata": {},
     "output_type": "execute_result"
    }
   ],
   "source": [
    "len(res[\"hits\"][\"hits\"])"
   ]
  },
  {
   "cell_type": "markdown",
   "id": "frozen-slovak",
   "metadata": {},
   "source": [
    "# Iteration in scrolling"
   ]
  },
  {
   "cell_type": "code",
   "execution_count": 12,
   "id": "prepared-purse",
   "metadata": {},
   "outputs": [
    {
     "name": "stdout",
     "output_type": "stream",
     "text": [
      "Scrolling....\n",
      "3\n"
     ]
    },
    {
     "ename": "KeyError",
     "evalue": "'scroll_id'",
     "output_type": "error",
     "traceback": [
      "\u001b[1;31m---------------------------------------------------------------------------\u001b[0m",
      "\u001b[1;31mKeyError\u001b[0m                                  Traceback (most recent call last)",
      "\u001b[1;32m<ipython-input-12-ca030a7b43c4>\u001b[0m in \u001b[0;36m<module>\u001b[1;34m\u001b[0m\n\u001b[0;32m     10\u001b[0m \u001b[1;33m\u001b[0m\u001b[0m\n\u001b[0;32m     11\u001b[0m     \u001b[1;31m#UPDATE THE SCROLLL_ ID\u001b[0m\u001b[1;33m\u001b[0m\u001b[1;33m\u001b[0m\u001b[1;33m\u001b[0m\u001b[0m\n\u001b[1;32m---> 12\u001b[1;33m     \u001b[0msid\u001b[0m \u001b[1;33m=\u001b[0m \u001b[0mpage\u001b[0m\u001b[1;33m[\u001b[0m\u001b[1;34m\"scroll_id\"\u001b[0m\u001b[1;33m]\u001b[0m\u001b[1;33m\u001b[0m\u001b[1;33m\u001b[0m\u001b[0m\n\u001b[0m\u001b[0;32m     13\u001b[0m \u001b[1;33m\u001b[0m\u001b[0m\n\u001b[0;32m     14\u001b[0m     \u001b[1;31m#Get the no of results that we returned in the last scroll\u001b[0m\u001b[1;33m\u001b[0m\u001b[1;33m\u001b[0m\u001b[1;33m\u001b[0m\u001b[0m\n",
      "\u001b[1;31mKeyError\u001b[0m: 'scroll_id'"
     ]
    }
   ],
   "source": [
    "counter = 0\n",
    "\n",
    "#Start Scrolling\n",
    "\n",
    "while (scroll_size > 0):\n",
    "    print(\"Scrolling....\")\n",
    "    page = es.scroll(scroll_id=sid,scroll= \"10m\")\n",
    "    print(len(page[\"hits\"][\"hits\"]))\n",
    "    \n",
    "    \n",
    "    #UPDATE THE SCROLLL_ ID\n",
    "    sid = page[\"_scroll_id\"]\n",
    "    \n",
    "    #Get the no of results that we returned in the last scroll\n",
    "    scroll_size = len(page[\"hits\"][\"hits\"])\n",
    "    \n",
    "    print(\"Scroll Size()\".format(scroll_size))\n",
    "    \n",
    "    \n",
    "    #Do something with obtained page:\n",
    "    counter = counter+1\n",
    "print(\"Counter()\".format(counter))"
   ]
  },
  {
   "cell_type": "code",
   "execution_count": null,
   "id": "reverse-brave",
   "metadata": {},
   "outputs": [],
   "source": []
  }
 ],
 "metadata": {
  "kernelspec": {
   "display_name": "Python 3",
   "language": "python",
   "name": "python3"
  },
  "language_info": {
   "codemirror_mode": {
    "name": "ipython",
    "version": 3
   },
   "file_extension": ".py",
   "mimetype": "text/x-python",
   "name": "python",
   "nbconvert_exporter": "python",
   "pygments_lexer": "ipython3",
   "version": "3.9.1"
  }
 },
 "nbformat": 4,
 "nbformat_minor": 5
}
