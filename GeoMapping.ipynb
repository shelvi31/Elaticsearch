{
 "cells": [
  {
   "cell_type": "markdown",
   "id": "toxic-photograph",
   "metadata": {},
   "source": [
    "# Import modules"
   ]
  },
  {
   "cell_type": "code",
   "execution_count": 1,
   "id": "practical-abraham",
   "metadata": {},
   "outputs": [],
   "source": [
    "import elasticsearch\n",
    "from elasticsearch import Elasticsearch"
   ]
  },
  {
   "cell_type": "markdown",
   "id": "tested-geneva",
   "metadata": {},
   "source": [
    "# Creating elasticsearch object"
   ]
  },
  {
   "cell_type": "code",
   "execution_count": 2,
   "id": "blocked-magnet",
   "metadata": {},
   "outputs": [
    {
     "data": {
      "text/plain": [
       "<Elasticsearch([{'host': 'localhost', 'port': 9200}])>"
      ]
     },
     "execution_count": 2,
     "metadata": {},
     "output_type": "execute_result"
    }
   ],
   "source": [
    "es = Elasticsearch([{\"host\":\"localhost\",\"port\":9200}])\n",
    "es"
   ]
  },
  {
   "cell_type": "markdown",
   "id": "circular-record",
   "metadata": {},
   "source": [
    "# Sample Json data"
   ]
  },
  {
   "cell_type": "code",
   "execution_count": 3,
   "id": "informal-carter",
   "metadata": {},
   "outputs": [],
   "source": [
    "sample = {\n",
    "    \"myloc\" : {\n",
    "        \"lat\" : 29.77,\n",
    "        \"lon\" : 77.26\n",
    "    },\n",
    "    \"skills\" : [\"Python\",\"C\"],\n",
    "    \"names\" : [\n",
    "        {\n",
    "            \"name\" : \"shelvi garg\",\n",
    "            \"place\" : \"gangoh\"\n",
    "        },\n",
    "        {\n",
    "            \"name\" : \"saksi jais\",\n",
    "            \"place\" : \"noida\"\n",
    "            \n",
    "        }\n",
    "    ]\n",
    "}"
   ]
  },
  {
   "cell_type": "markdown",
   "id": "foreign-monte",
   "metadata": {},
   "source": [
    "# Creating a Custom Mapping : How the data will be mapped"
   ]
  },
  {
   "cell_type": "code",
   "execution_count": 4,
   "id": "dressed-intro",
   "metadata": {},
   "outputs": [],
   "source": [
    "Settings = {\n",
    "    \"settings\" :\n",
    "    {\n",
    "        \"number_of_shards\" :1,\n",
    "        \"number_of_replicas\" : 0\n",
    "    },\n",
    "    \n",
    "    \"mappings\" :\n",
    "    {\n",
    "        \"properties\" :\n",
    "        {\n",
    "            \"myloc\" :\n",
    "            {\n",
    "                \"type\": \"geo_point\"\n",
    "            }\n",
    "        }\n",
    "    }\n",
    "    \n",
    "}"
   ]
  },
  {
   "cell_type": "markdown",
   "id": "distant-howard",
   "metadata": {},
   "source": [
    "# Creating Elasticsearch Index"
   ]
  },
  {
   "cell_type": "code",
   "execution_count": 5,
   "id": "young-nowhere",
   "metadata": {},
   "outputs": [],
   "source": [
    "geo_index = es.indices.create(index=\"geo_index\",ignore=400,body = Settings)"
   ]
  },
  {
   "cell_type": "code",
   "execution_count": 6,
   "id": "sustainable-missouri",
   "metadata": {},
   "outputs": [
    {
     "data": {
      "text/plain": [
       "{'error': {'root_cause': [{'type': 'resource_already_exists_exception',\n",
       "    'reason': 'index [geo_index/eLNhZgs2TIeM2lB1q--TMQ] already exists',\n",
       "    'index_uuid': 'eLNhZgs2TIeM2lB1q--TMQ',\n",
       "    'index': 'geo_index'}],\n",
       "  'type': 'resource_already_exists_exception',\n",
       "  'reason': 'index [geo_index/eLNhZgs2TIeM2lB1q--TMQ] already exists',\n",
       "  'index_uuid': 'eLNhZgs2TIeM2lB1q--TMQ',\n",
       "  'index': 'geo_index'},\n",
       " 'status': 400}"
      ]
     },
     "execution_count": 6,
     "metadata": {},
     "output_type": "execute_result"
    }
   ],
   "source": [
    "geo_index"
   ]
  },
  {
   "cell_type": "markdown",
   "id": "isolated-movement",
   "metadata": {},
   "source": [
    "# Putting data into elasticsearch"
   ]
  },
  {
   "cell_type": "code",
   "execution_count": 7,
   "id": "confirmed-tutorial",
   "metadata": {},
   "outputs": [],
   "source": [
    "data = es.index(index=\"geo_index\",body=sample,id=1)"
   ]
  },
  {
   "cell_type": "code",
   "execution_count": 8,
   "id": "dietary-bristol",
   "metadata": {},
   "outputs": [
    {
     "data": {
      "text/plain": [
       "{'_index': 'geo_index',\n",
       " '_type': '_doc',\n",
       " '_id': '1',\n",
       " '_version': 2,\n",
       " 'result': 'updated',\n",
       " '_shards': {'total': 1, 'successful': 1, 'failed': 0},\n",
       " '_seq_no': 2,\n",
       " '_primary_term': 1}"
      ]
     },
     "execution_count": 8,
     "metadata": {},
     "output_type": "execute_result"
    }
   ],
   "source": [
    "data"
   ]
  },
  {
   "cell_type": "code",
   "execution_count": 9,
   "id": "lonely-heritage",
   "metadata": {},
   "outputs": [],
   "source": [
    "sample2 = {\n",
    "    \"myloc\" : {\n",
    "        \"lat\" : 41.77,\n",
    "        \"lon\" : 100.26\n",
    "    },\n",
    "    \"skills\" : [\"Python\",\"C\"],\n",
    "    \"names\" : [\n",
    "        {\n",
    "            \"name\" : \" cp\",\n",
    "            \"place\" : \"balia\"\n",
    "        },\n",
    "        {\n",
    "            \"name\" : \"harshi\",\n",
    "            \"place\" : \"bulandshar\"\n",
    "            \n",
    "        }\n",
    "    ]\n",
    "}\n",
    "\n",
    "data2 = es.index(index=\"geo_index\",body=sample2,id=2)"
   ]
  },
  {
   "cell_type": "code",
   "execution_count": 10,
   "id": "alpine-surge",
   "metadata": {},
   "outputs": [
    {
     "data": {
      "text/plain": [
       "{'_index': 'geo_index',\n",
       " '_type': '_doc',\n",
       " '_id': '1',\n",
       " '_version': 2,\n",
       " 'result': 'updated',\n",
       " '_shards': {'total': 1, 'successful': 1, 'failed': 0},\n",
       " '_seq_no': 2,\n",
       " '_primary_term': 1}"
      ]
     },
     "execution_count": 10,
     "metadata": {},
     "output_type": "execute_result"
    }
   ],
   "source": [
    "data"
   ]
  },
  {
   "cell_type": "code",
   "execution_count": 11,
   "id": "abandoned-birmingham",
   "metadata": {},
   "outputs": [],
   "source": [
    "#MOVING TO KIBANA"
   ]
  },
  {
   "cell_type": "code",
   "execution_count": 12,
   "id": "hawaiian-thunder",
   "metadata": {},
   "outputs": [
    {
     "data": {
      "text/plain": [
       "{'_index': 'geo_index',\n",
       " '_type': '_doc',\n",
       " '_id': '2',\n",
       " '_version': 2,\n",
       " 'result': 'updated',\n",
       " '_shards': {'total': 1, 'successful': 1, 'failed': 0},\n",
       " '_seq_no': 3,\n",
       " '_primary_term': 1}"
      ]
     },
     "execution_count": 12,
     "metadata": {},
     "output_type": "execute_result"
    }
   ],
   "source": [
    "data2"
   ]
  },
  {
   "cell_type": "code",
   "execution_count": null,
   "id": "vertical-structure",
   "metadata": {},
   "outputs": [],
   "source": []
  }
 ],
 "metadata": {
  "kernelspec": {
   "display_name": "Python 3",
   "language": "python",
   "name": "python3"
  },
  "language_info": {
   "codemirror_mode": {
    "name": "ipython",
    "version": 3
   },
   "file_extension": ".py",
   "mimetype": "text/x-python",
   "name": "python",
   "nbconvert_exporter": "python",
   "pygments_lexer": "ipython3",
   "version": "3.9.1"
  }
 },
 "nbformat": 4,
 "nbformat_minor": 5
}
